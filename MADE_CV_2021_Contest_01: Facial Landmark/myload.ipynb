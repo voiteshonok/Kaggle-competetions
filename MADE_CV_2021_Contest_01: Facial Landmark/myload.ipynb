{
 "cells": [
  {
   "cell_type": "code",
   "execution_count": 2,
   "metadata": {},
   "outputs": [],
   "source": [
    "import os\n",
    "import pickle\n",
    "import sys\n",
    "from argparse import ArgumentParser\n",
    "\n",
    "import numpy as np\n",
    "import torch\n",
    "import torch.nn as nn\n",
    "import torch.optim as optim\n",
    "import torchvision.models as models\n",
    "import tqdm\n",
    "from torch.nn import functional as fnn\n",
    "from torch.utils.data import DataLoader\n",
    "from torchvision import transforms\n",
    "\n",
    "from utils import NUM_PTS, CROP_SIZE\n",
    "from utils import ScaleMinSideToSize, CropCenter, TransformByKeys\n",
    "from utils import ThousandLandmarksDataset\n",
    "from utils import restore_landmarks_batch, create_submission\n",
    "\n",
    "torch.backends.cudnn.deterministic = True\n",
    "torch.backends.cudnn.benchmark = False\n",
    "\n",
    "from train import train, validate, predict"
   ]
  },
  {
   "cell_type": "code",
   "execution_count": 3,
   "metadata": {},
   "outputs": [],
   "source": [
    "train_transforms = transforms.Compose([\n",
    "        ScaleMinSideToSize((CROP_SIZE, CROP_SIZE)),\n",
    "        CropCenter(CROP_SIZE),\n",
    "        TransformByKeys(transforms.ToPILImage(), (\"image\",)),\n",
    "        TransformByKeys(transforms.ToTensor(), (\"image\",)),\n",
    "        TransformByKeys(transforms.Normalize(mean=[0.5, 0.5, 0.5], std=[0.25, 0.25, 0.25]), (\"image\",)),\n",
    "    ])\n",
    "\n",
    "device = torch.device(\"cuda:0\") if torch.cuda.is_available() else torch.device(\"cpu\")"
   ]
  },
  {
   "cell_type": "code",
   "execution_count": 4,
   "metadata": {},
   "outputs": [
    {
     "name": "stderr",
     "output_type": "stream",
     "text": [
      "100%|██████████| 16001/16001 [00:00<00:00, 354570.26it/s]\n"
     ]
    }
   ],
   "source": [
    "test_dataset = ThousandLandmarksDataset(os.path.join('.', \"test\"), train_transforms, split=\"test\")\n",
    "test_dataloader = DataLoader(test_dataset, batch_size=512, num_workers=2, pin_memory=True,\n",
    "                                 shuffle=False, drop_last=False)"
   ]
  },
  {
   "cell_type": "code",
   "execution_count": 7,
   "metadata": {},
   "outputs": [
    {
     "name": "stderr",
     "output_type": "stream",
     "text": [
      "test prediction...: 100%|██████████| 32/32 [33:57<00:00, 63.66s/it]\n"
     ]
    }
   ],
   "source": [
    "test_predictions = predict(model, test_dataloader, device)\n",
    "with open(os.path.join(\"runs\", f\"{'03'}_test_predictions.pkl\"), \"wb\") as fp:\n",
    "    pickle.dump({\"image_names\": test_dataset.image_names,\n",
    "                     \"landmarks\": test_predictions}, fp)\n",
    "\n",
    "create_submission('.', test_predictions, os.path.join(\"runs\", f\"{'resnext101_32x8d_no_noise'}_submit.csv\"))"
   ]
  },
  {
   "cell_type": "code",
   "execution_count": 5,
   "metadata": {},
   "outputs": [],
   "source": [
    "model = models.resnext101_32x8d(pretrained=True, progress=False)\n",
    "model.fc = nn.Linear(model.fc.in_features, 2 * NUM_PTS, bias=True)"
   ]
  },
  {
   "cell_type": "code",
   "execution_count": 6,
   "metadata": {},
   "outputs": [],
   "source": [
    "name = './runs/resnext101_32x8d_ep24_loss3.223.pth'\n",
    "with open(f\"{name}\", \"rb\") as fp:\n",
    "    best_state_dict = torch.load(fp, map_location=\"cpu\")\n",
    "    model.load_state_dict(best_state_dict)\n",
    "# freeze all layers\n",
    "for param in model.parameters():\n",
    "    param.requires_grad = False\n",
    "        #\n",
    "        # # train only head\n",
    "model.fc.weight.requires_grad = True\n",
    "model.fc.bias.requires_grad = True\n",
    "        #\n",
    "        # # train layer4\n",
    "for param in model.layer4.parameters():\n",
    "    param.requires_grad = True"
   ]
  },
  {
   "cell_type": "code",
   "execution_count": null,
   "metadata": {},
   "outputs": [],
   "source": []
  }
 ],
 "metadata": {
  "kernelspec": {
   "display_name": "Python 3",
   "language": "python",
   "name": "python3"
  },
  "language_info": {
   "codemirror_mode": {
    "name": "ipython",
    "version": 3
   },
   "file_extension": ".py",
   "mimetype": "text/x-python",
   "name": "python",
   "nbconvert_exporter": "python",
   "pygments_lexer": "ipython3",
   "version": "3.9.1"
  }
 },
 "nbformat": 4,
 "nbformat_minor": 2
}

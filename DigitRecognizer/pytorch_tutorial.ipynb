{
 "cells": [
  {
   "cell_type": "code",
   "execution_count": 66,
   "id": "noble-reserve",
   "metadata": {},
   "outputs": [],
   "source": [
    "import pandas as pd\n",
    "import torch\n",
    "import numpy as np\n",
    "import torchvision.transforms as transforms\n",
    "import matplotlib.pyplot as plt\n",
    "import torch.nn as nn\n",
    "from torch.autograd import Variable\n",
    "from torch.utils.data import DataLoader\n",
    "from sklearn.model_selection import train_test_split\n",
    "from torchvision import transforms"
   ]
  },
  {
   "cell_type": "markdown",
   "id": "laughing-underground",
   "metadata": {},
   "source": [
    "# Pytorch practice"
   ]
  },
  {
   "cell_type": "code",
   "execution_count": 209,
   "id": "surprising-porter",
   "metadata": {},
   "outputs": [],
   "source": [
    "# Preparing datset\n",
    "train = pd.read_csv(\"train.csv\", dtype = np.float32)\n",
    "targets_numpy = train.label.values\n",
    "features_numpy = train.loc[:, train.columns != \"label\"].values/255 #normalization"
   ]
  },
  {
   "cell_type": "code",
   "execution_count": 210,
   "id": "impossible-lover",
   "metadata": {},
   "outputs": [],
   "source": [
    "# train_test_split \n",
    "features_train, features_test, targets_train, targets_test = train_test_split(features_numpy, \n",
    "                                                                              targets_numpy, \n",
    "                                                                              test_size = 0.2,\n",
    "                                                                              random_state = 42)"
   ]
  },
  {
   "cell_type": "code",
   "execution_count": 211,
   "id": "labeled-engineering",
   "metadata": {},
   "outputs": [],
   "source": [
    "# creating tensors for train and test sets\n",
    "featuresTrain = torch.from_numpy(features_train)\n",
    "targetsTrain = torch.from_numpy(targets_train).type(torch.LongTensor) # torch learning as Long\n",
    "\n",
    "featuresTest = torch.from_numpy(features_test)\n",
    "targetsTest = torch.from_numpy(targets_test).type(torch.LongTensor)"
   ]
  },
  {
   "cell_type": "code",
   "execution_count": 212,
   "id": "technical-repeat",
   "metadata": {},
   "outputs": [],
   "source": [
    "# evaluating batch_size, epochs\n",
    "batch_size = 100\n",
    "n_iters = 10000\n",
    "num_epochs = n_iters / (len(features_train) / (batch_size))\n",
    "num_epochs = int(num_epochs)"
   ]
  },
  {
   "cell_type": "code",
   "execution_count": 121,
   "id": "enhanced-template",
   "metadata": {},
   "outputs": [],
   "source": [
    "# Pytorch train and test sets\n",
    "train = torch.utils.data.TensorDataset(featuresTrain, targetsTrain)\n",
    "test = torch.utils.data.TensorDataset(featuresTest, targetsTest)"
   ]
  },
  {
   "cell_type": "code",
   "execution_count": 122,
   "id": "painful-cincinnati",
   "metadata": {},
   "outputs": [],
   "source": [
    "# Data loader\n",
    "train_loader = DataLoader(train, batch_size=batch_size, shuffle=False)\n",
    "test_loader = DataLoader(test, batch_size=batch_size, shuffle=False)"
   ]
  },
  {
   "cell_type": "code",
   "execution_count": 123,
   "id": "fuzzy-middle",
   "metadata": {
    "scrolled": true
   },
   "outputs": [
    {
     "data": {
      "image/png": "[encoded data removed]",
      "text/plain": [
       "<Figure size 432x288 with 1 Axes>"
      ]
     },
     "metadata": {
      "needs_background": "light"
     },
     "output_type": "display_data"
    }
   ],
   "source": [
    "# visualize\n",
    "plt.imshow(torch.from_numpy(features_numpy[0]).reshape(28,28))\n",
    "plt.axis(\"off\")\n",
    "plt.title(str(targets_numpy[0]))\n",
    "plt.show()"
   ]
  },
  {
   "cell_type": "markdown",
   "id": "informal-military",
   "metadata": {},
   "source": [
    "### Logistic Regression Model"
   ]
  },
  {
   "cell_type": "code",
   "execution_count": 171,
   "id": "unexpected-shift",
   "metadata": {},
   "outputs": [],
   "source": [
    "# Creating class of Logistic Regression Model\n",
    "class LogisticRegression(nn.Module):\n",
    "    def __init__(self, input_dim, output_dim):\n",
    "        super(LogisticRegression, self).__init__()\n",
    "        \n",
    "        self.linear = nn.Linear(input_dim, output_dim)\n",
    "        \n",
    "    \n",
    "    def forward(self, x):\n",
    "        out = self.linear(x)\n",
    "        return out"
   ]
  },
  {
   "cell_type": "code",
   "execution_count": 1,
   "id": "turkish-machine",
   "metadata": {},
   "outputs": [
    {
     "ename": "NameError",
     "evalue": "name 'LogisticRegression' is not defined",
     "output_type": "error",
     "traceback": [
      "\u001b[0;31m---------------------------------------------------------------------------\u001b[0m",
      "\u001b[0;31mNameError\u001b[0m                                 Traceback (most recent call last)",
      "\u001b[0;32m<ipython-input-1-78f3d63ff527>\u001b[0m in \u001b[0;36m<module>\u001b[0;34m\u001b[0m\n\u001b[1;32m      3\u001b[0m \u001b[0moutput_dim\u001b[0m \u001b[0;34m=\u001b[0m \u001b[0;36m10\u001b[0m \u001b[0;31m# label size\u001b[0m\u001b[0;34m\u001b[0m\u001b[0;34m\u001b[0m\u001b[0m\n\u001b[1;32m      4\u001b[0m \u001b[0;34m\u001b[0m\u001b[0m\n\u001b[0;32m----> 5\u001b[0;31m \u001b[0mmodel\u001b[0m \u001b[0;34m=\u001b[0m \u001b[0mLogisticRegression\u001b[0m\u001b[0;34m(\u001b[0m\u001b[0minput_dim\u001b[0m\u001b[0;34m,\u001b[0m \u001b[0moutput_dim\u001b[0m\u001b[0;34m)\u001b[0m\u001b[0;34m\u001b[0m\u001b[0;34m\u001b[0m\u001b[0m\n\u001b[0m\u001b[1;32m      6\u001b[0m \u001b[0;34m\u001b[0m\u001b[0m\n\u001b[1;32m      7\u001b[0m \u001b[0;31m# Loss\u001b[0m\u001b[0;34m\u001b[0m\u001b[0;34m\u001b[0m\u001b[0;34m\u001b[0m\u001b[0m\n",
      "\u001b[0;31mNameError\u001b[0m: name 'LogisticRegression' is not defined"
     ]
    }
   ],
   "source": [
    "# creating model\n",
    "input_dim = 28*28 # figure size\n",
    "output_dim = 10 # label size\n",
    "\n",
    "model = LogisticRegression(input_dim, output_dim)\n",
    "\n",
    "# Loss\n",
    "error = nn.CrossEntropyLoss()\n",
    "\n",
    "# Optimizer\n",
    "lr = 0.001\n",
    "optimizer = torch.optim.SGD(model.parameters(), lr=lr)"
   ]
  },
  {
   "cell_type": "code",
   "execution_count": 219,
   "id": "prospective-circuit",
   "metadata": {},
   "outputs": [],
   "source": [
    "# Training model\n",
    "def model_train(model, criterion, optimizer, train_loader, test_loader, epochs = 10000):\n",
    "    count = 0\n",
    "    loss_list = []\n",
    "    iteration_list = []\n",
    "    accuracy_list = []\n",
    "    for epoch in range(num_epochs):\n",
    "        for i, (images, labels) in enumerate(train_loader):\n",
    "        \n",
    "            train = Variable(images.view(-1, 28*28))\n",
    "            labels = Variable(labels)\n",
    "        \n",
    "            optimizer.zero_grad()\n",
    "        \n",
    "            outputs = model(train)\n",
    "        \n",
    "            loss = error(outputs, labels)\n",
    "        \n",
    "            loss.backward()\n",
    "        \n",
    "            optimizer.step()\n",
    "        \n",
    "            count += 1\n",
    "        \n",
    "            # Predicitons\n",
    "            if count % 50 == 0:\n",
    "                # Calculate Accuracy\n",
    "                correct = 0\n",
    "                total = 0\n",
    "            \n",
    "                # Predict test\n",
    "                for images, labels in test_loader:\n",
    "                    test = Variable(images.view(-1, 28*28))\n",
    "                \n",
    "                    # Forward\n",
    "                    outputs = model(test)\n",
    "                \n",
    "                    # Get prediction as maximum of probs\n",
    "                    predicted = torch.max(outputs.data, 1)[1]\n",
    "                \n",
    "                    # Total number of labels\n",
    "                    total += len(labels)\n",
    "                \n",
    "                    # Total correct predictions\n",
    "                    correct += (predicted == labels).sum()\n",
    "                \n",
    "                accuracy = correct * 100 / float(total)\n",
    "            \n",
    "                # store loss, accuracy and iteration\n",
    "                loss_list.append(loss.data)\n",
    "                accuracy_list.append(accuracy)\n",
    "                iteration_list.append(count)\n",
    "            \n",
    "            if count % 500 == 0:\n",
    "                print(f\"Iteration: {count}  Loss: {loss.data}  Accuracy: {int(accuracy)}%\")\n",
    "                \n",
    "    # visualization loss \n",
    "    plt.plot(iteration_list,loss_list)\n",
    "    plt.xlabel(\"Number of iteration\")\n",
    "    plt.ylabel(\"Loss\")\n",
    "    plt.title(\"ANN: Loss vs Number of iteration\")\n",
    "    plt.show()\n",
    "    \n",
    "    # visualization accuracy \n",
    "    plt.plot(iteration_list,accuracy_list,color = \"red\")\n",
    "    plt.xlabel(\"Number of iteration\")\n",
    "    plt.ylabel(\"Accuracy\")\n",
    "    plt.title(\"ANN: Accuracy vs Number of iteration\")\n",
    "    plt.show()\n",
    "\n",
    "                \n",
    "    return model"
   ]
  },
  {
   "cell_type": "code",
   "execution_count": 174,
   "id": "expressed-shaft",
   "metadata": {},
   "outputs": [
    {
     "name": "stdout",
     "output_type": "stream",
     "text": [
      "Iteration: 500  Loss: 1.8088091611862183  Accuracy: 67%\n",
      "Iteration: 1000  Loss: 1.6048333644866943  Accuracy: 75%\n",
      "Iteration: 1500  Loss: 1.279893159866333  Accuracy: 78%\n",
      "Iteration: 2000  Loss: 1.200177788734436  Accuracy: 80%\n",
      "Iteration: 2500  Loss: 1.0294324159622192  Accuracy: 81%\n",
      "Iteration: 3000  Loss: 0.9255101680755615  Accuracy: 82%\n",
      "Iteration: 3500  Loss: 0.896333634853363  Accuracy: 82%\n",
      "Iteration: 4000  Loss: 0.7485110759735107  Accuracy: 83%\n",
      "Iteration: 4500  Loss: 0.9645856618881226  Accuracy: 83%\n",
      "Iteration: 5000  Loss: 0.7982501983642578  Accuracy: 84%\n",
      "Iteration: 5500  Loss: 0.7533206343650818  Accuracy: 84%\n",
      "Iteration: 6000  Loss: 0.871523380279541  Accuracy: 84%\n",
      "Iteration: 6500  Loss: 0.6603485941886902  Accuracy: 84%\n",
      "Iteration: 7000  Loss: 0.7255089282989502  Accuracy: 85%\n",
      "Iteration: 7500  Loss: 0.6364325881004333  Accuracy: 85%\n",
      "Iteration: 8000  Loss: 0.7352423667907715  Accuracy: 85%\n",
      "Iteration: 8500  Loss: 0.5444234609603882  Accuracy: 85%\n",
      "Iteration: 9000  Loss: 0.6589908599853516  Accuracy: 85%\n",
      "Iteration: 9500  Loss: 0.5341898202896118  Accuracy: 85%\n"
     ]
    },
    {
     "data": {
      "image/png": "[encoded data removed]",
      "text/plain": [
       "<Figure size 432x288 with 1 Axes>"
      ]
     },
     "metadata": {
      "needs_background": "light"
     },
     "output_type": "display_data"
    }
   ],
   "source": [
    "model = model_train(model, error, optimizer, train_loader, test_loader, num_epochs)"
   ]
  },
  {
   "cell_type": "code",
   "execution_count": 148,
   "id": "marine-christmas",
   "metadata": {},
   "outputs": [],
   "source": [
    "def make_test_dataset_predictions(model):\n",
    "    test = pd.read_csv(\"test.csv\", dtype = np.float32)\n",
    "    test = test.values/255 # normalization\n",
    "    \n",
    "    # to pytorch.tensor from numpy.ndarray\n",
    "    test = torch.from_numpy(test)\n",
    "    \n",
    "    # Forward propagation\n",
    "    outputs = model(test)\n",
    "                \n",
    "    # Get predictions from the maximum value\n",
    "    predicted = torch.max(outputs.data, 1)[1]\n",
    "    \n",
    "    submission = pd.DataFrame(data={\n",
    "        \"ImageId\": list(range(1, test.shape[0]+1)),\n",
    "        \"Label\": predicted\n",
    "    })\n",
    "    \n",
    "    submission.to_csv(\"Submission.csv\", index=False)"
   ]
  },
  {
   "cell_type": "code",
   "execution_count": 149,
   "id": "duplicate-termination",
   "metadata": {},
   "outputs": [],
   "source": [
    "make_test_dataset_predictions(model)"
   ]
  },
  {
   "cell_type": "markdown",
   "id": "middle-component",
   "metadata": {},
   "source": [
    "### NN model"
   ]
  },
  {
   "cell_type": "code",
   "execution_count": 216,
   "id": "automatic-burden",
   "metadata": {},
   "outputs": [],
   "source": [
    "class NNModel(nn.Module):\n",
    "    def __init__(self, input_dim, output_dim):\n",
    "        super(NNModel, self).__init__()\n",
    "        \n",
    "        hidden_dim = 150\n",
    "        \n",
    "        # Linear 1: 784 -> hidden_dim\n",
    "        self.fc1 = nn.Linear(input_dim, hidden_dim)\n",
    "        # Non-linearity 1\n",
    "        self.relu1 = nn.ReLU()\n",
    "        \n",
    "        # Linear 2: hidden_dim -> hidden_dim\n",
    "        self.fc2 = nn.Linear(hidden_dim, hidden_dim)\n",
    "        # Non-linearity 2\n",
    "        self.tanh2 = nn.Tanh()\n",
    "        \n",
    "        # Linear 3: hidden_dim -> hidden_dim\n",
    "        self.fc3 = nn.Linear(hidden_dim, hidden_dim)\n",
    "        # Non-linearity 3\n",
    "        self.elu3 = nn.ELU()\n",
    "        \n",
    "        # Linear 4 (readout): hidden_dim -> hidden_dim\n",
    "        self.fc4 = nn.Linear(hidden_dim, output_dim)\n",
    "        \n",
    "    \n",
    "    def forward(self, x):\n",
    "        # Linear function 1\n",
    "        out = self.fc1(x)\n",
    "        # Non-linearity 1\n",
    "        out = self.relu1(out)\n",
    "        \n",
    "        # Linear function 2\n",
    "        out = self.fc2(out)\n",
    "        # Non-linearity 2\n",
    "        out = self.tanh2(out)\n",
    "        \n",
    "        # Linear function 2\n",
    "        out = self.fc3(out)\n",
    "        # Non-linearity 2\n",
    "        out = self.elu3(out)\n",
    "        \n",
    "        # Linear function 4 (readout)\n",
    "        out = self.fc4(out)\n",
    "        \n",
    "        return out"
   ]
  },
  {
   "cell_type": "code",
   "execution_count": 221,
   "id": "cathedral-tampa",
   "metadata": {},
   "outputs": [],
   "source": [
    "# Create NN\n",
    "model = NNModel(28*28, 10)\n",
    "\n",
    "# Cross Entropy Loss \n",
    "error = nn.CrossEntropyLoss()\n",
    "\n",
    "# SGD Optimizer\n",
    "lr = 0.02\n",
    "optimizer = torch.optim.SGD(model.parameters(), lr=lr)"
   ]
  },
  {
   "cell_type": "code",
   "execution_count": 222,
   "id": "artificial-brazilian",
   "metadata": {},
   "outputs": [
    {
     "name": "stdout",
     "output_type": "stream",
     "text": [
      "Iteration: 500  Loss: 0.8346293568611145  Accuracy: 77%\n",
      "Iteration: 1000  Loss: 0.4676189124584198  Accuracy: 87%\n",
      "Iteration: 1500  Loss: 0.24014167487621307  Accuracy: 89%\n",
      "Iteration: 2000  Loss: 0.3071320652961731  Accuracy: 90%\n",
      "Iteration: 2500  Loss: 0.31691622734069824  Accuracy: 92%\n",
      "Iteration: 3000  Loss: 0.1303427666425705  Accuracy: 92%\n",
      "Iteration: 3500  Loss: 0.24995025992393494  Accuracy: 93%\n",
      "Iteration: 4000  Loss: 0.06574717909097672  Accuracy: 94%\n",
      "Iteration: 4500  Loss: 0.2967472970485687  Accuracy: 94%\n",
      "Iteration: 5000  Loss: 0.10641510039567947  Accuracy: 94%\n",
      "Iteration: 5500  Loss: 0.1821921020746231  Accuracy: 95%\n",
      "Iteration: 6000  Loss: 0.191897451877594  Accuracy: 95%\n",
      "Iteration: 6500  Loss: 0.10413765907287598  Accuracy: 95%\n",
      "Iteration: 7000  Loss: 0.12376347184181213  Accuracy: 95%\n",
      "Iteration: 7500  Loss: 0.12565621733665466  Accuracy: 95%\n",
      "Iteration: 8000  Loss: 0.1974135786294937  Accuracy: 95%\n",
      "Iteration: 8500  Loss: 0.06126187741756439  Accuracy: 96%\n",
      "Iteration: 9000  Loss: 0.05763581767678261  Accuracy: 96%\n",
      "Iteration: 9500  Loss: 0.021903052926063538  Accuracy: 96%\n"
     ]
    },
    {
     "data": {
      "image/png": "[encoded data removed]",
      "text/plain": [
       "<Figure size 432x288 with 1 Axes>"
      ]
     },
     "metadata": {
      "needs_background": "light"
     },
     "output_type": "display_data"
    },
    {
     "data": {
      "image/png": "[encoded data removed]",
      "text/plain": [
       "<Figure size 432x288 with 1 Axes>"
      ]
     },
     "metadata": {
      "needs_background": "light"
     },
     "output_type": "display_data"
    }
   ],
   "source": [
    "model = model_train(model, error, optimizer, train_loader, test_loader, num_epochs)"
   ]
  },
  {
   "cell_type": "code",
   "execution_count": 223,
   "id": "minor-vanilla",
   "metadata": {},
   "outputs": [],
   "source": [
    "make_test_dataset_predictions(model)"
   ]
  },
  {
   "cell_type": "markdown",
   "id": "ongoing-trustee",
   "metadata": {},
   "source": [
    "## CNN"
   ]
  },
  {
   "cell_type": "code",
   "execution_count": 272,
   "id": "juvenile-weapon",
   "metadata": {},
   "outputs": [],
   "source": [
    "class MyToTensor:\n",
    "    def __call__(self, img):\n",
    "        return torch.unsqueeze(torch.from_numpy(img), dim=0)\n",
    "    \n",
    "\n",
    "class ReshapeTransform:\n",
    "    def __init__(self, new_size):\n",
    "        self.new_size = new_size\n",
    "\n",
    "    def __call__(self, img):\n",
    "        return torch.unsqueeze(torch.reshape(img, self.new_size), dim=0)\n",
    "\n",
    "\n",
    "# transforms\n",
    "preprocess = transforms.Compose([\n",
    "    MyToTensor(),\n",
    "    ReshapeTransform((28,28)),\n",
    "    transforms.ColorJitter(brightness=1, hue=.5),\n",
    "    transforms.GaussianBlur(kernel_size=(5, 5), sigma=(0.1, 5)),\n",
    "    transforms.RandomPerspective(distortion_scale=0.6, p=1.0),\n",
    "    #transforms.RandomRotation(degrees=(0, 180)),\n",
    "    #transforms.RandomInvert(),\n",
    "    transforms.RandomAdjustSharpness(sharpness_factor=2)\n",
    "])"
   ]
  },
  {
   "cell_type": "code",
   "execution_count": 273,
   "id": "grateful-ireland",
   "metadata": {},
   "outputs": [],
   "source": [
    "featuresTrain = torch.stack(\n",
    "    tuple(torch.squeeze(torch.reshape((preprocess(features_train[i])), (1, 784))) for i in range(len(featuresTrain)))\n",
    ", dim=0)"
   ]
  },
  {
   "cell_type": "code",
   "execution_count": 274,
   "id": "baking-terminal",
   "metadata": {},
   "outputs": [],
   "source": [
    "class CNNModel(nn.Module):\n",
    "    def __init__(self):\n",
    "        super(CNNModel, self).__init__()\n",
    "        \n",
    "        # Convolution 1\n",
    "        self.cnn1 = nn.Conv2d(in_channels=1, out_channels=16, kernel_size=5, stride=1, padding=0)\n",
    "        self.relu1 = nn.SiLU()\n",
    "        \n",
    "        # Max pool 1\n",
    "        self.maxpool1 = nn.MaxPool2d(kernel_size=2)\n",
    "     \n",
    "        # Convolution 2\n",
    "        self.cnn2 = nn.Conv2d(in_channels=16, out_channels=32, kernel_size=5, stride=1, padding=0)\n",
    "        self.relu2 = nn.SiLU()\n",
    "        \n",
    "        # Max pool 2\n",
    "        self.maxpool2 = nn.MaxPool2d(kernel_size=2)\n",
    "        \n",
    "        # Convolution 3\n",
    "        #self.cnn3 = nn.Conv2d(in_channels=32, out_channels=64, kernel_size=3, stride=1, padding=0)\n",
    "        #self.relu3 = nn.SiLU()\n",
    "        \n",
    "        # Fully connected 1\n",
    "        self.fc1 = nn.Linear(32 * 4 * 4, 10)\n",
    "        \n",
    "    \n",
    "    def forward(self, x):\n",
    "        # Convolution 1\n",
    "        out = self.cnn1(x)\n",
    "        out = self.relu1(out)\n",
    "        \n",
    "        # Max pool 1\n",
    "        out = self.maxpool1(out)\n",
    "        \n",
    "        # Convolution 2 \n",
    "        out = self.cnn2(out)\n",
    "        out = self.relu2(out)\n",
    "        \n",
    "        # Max pool 2 \n",
    "        out = self.maxpool2(out)\n",
    "        \n",
    "        # Convolution 3 \n",
    "        #out = self.cnn3(out)\n",
    "        #out = self.relu3(out)\n",
    "        \n",
    "        # flatten\n",
    "        out = out.view(out.size(0), -1)\n",
    "\n",
    "        # Linear function (readout)\n",
    "        out = self.fc1(out)\n",
    "        \n",
    "        return out"
   ]
  },
  {
   "cell_type": "code",
   "execution_count": 275,
   "id": "stable-works",
   "metadata": {},
   "outputs": [
    {
     "name": "stdout",
     "output_type": "stream",
     "text": [
      "Adjusting learning rate of group 0 to 1.0000e-01.\n"
     ]
    }
   ],
   "source": [
    "# batch_size, epoch and iteration\n",
    "batch_size = 100\n",
    "n_iters = 2500\n",
    "num_epochs = n_iters / (len(features_train) / batch_size)\n",
    "num_epochs = int(num_epochs)\n",
    "\n",
    "# Pytorch train and test sets\n",
    "train = torch.utils.data.TensorDataset(featuresTrain, targetsTrain)\n",
    "test = torch.utils.data.TensorDataset(featuresTest, targetsTest)\n",
    "\n",
    "# data loader\n",
    "train_loader = torch.utils.data.DataLoader(train, batch_size = batch_size, shuffle = False)\n",
    "test_loader = torch.utils.data.DataLoader(test, batch_size = batch_size, shuffle = False)\n",
    "    \n",
    "# Create CNN\n",
    "model = CNNModel()\n",
    "\n",
    "# Cross Entropy Loss \n",
    "error = nn.CrossEntropyLoss()\n",
    "\n",
    "# SGD Optimizer\n",
    "learning_rate = 0.1\n",
    "optimizer = torch.optim.SGD(model.parameters(), lr=learning_rate, momentum=0.9)\n",
    "scheduler = torch.optim.lr_scheduler.ExponentialLR(optimizer, gamma=0.9, verbose=True)"
   ]
  },
  {
   "cell_type": "code",
   "execution_count": 279,
   "id": "joint-thermal",
   "metadata": {},
   "outputs": [
    {
     "name": "stdout",
     "output_type": "stream",
     "text": [
      "Adjusting learning rate of group 0 to 4.3047e-02.\n",
      "Iteration: 500  Loss: 0.11142519116401672  Accuracy: 88.51190185546875 %\n",
      "Adjusting learning rate of group 0 to 3.8742e-02.\n",
      "Iteration: 1000  Loss: 0.16844680905342102  Accuracy: 89.20237731933594 %\n",
      "Adjusting learning rate of group 0 to 3.4868e-02.\n",
      "Adjusting learning rate of group 0 to 3.1381e-02.\n",
      "Iteration: 1500  Loss: 0.07792630791664124  Accuracy: 85.55952453613281 %\n",
      "Adjusting learning rate of group 0 to 2.8243e-02.\n",
      "Iteration: 2000  Loss: 0.13178332149982452  Accuracy: 86.64286041259766 %\n",
      "Adjusting learning rate of group 0 to 2.5419e-02.\n",
      "Adjusting learning rate of group 0 to 2.2877e-02.\n"
     ]
    }
   ],
   "source": [
    "# CNN model training\n",
    "count = 0\n",
    "loss_list = []\n",
    "iteration_list = []\n",
    "accuracy_list = []\n",
    "for epoch in range(num_epochs):\n",
    "    for i, (images, labels) in enumerate(train_loader):\n",
    "        model.train()\n",
    "        train = Variable(images.view(100,1,28,28))\n",
    "        labels = Variable(labels)\n",
    "        \n",
    "        # Clear gradients\n",
    "        optimizer.zero_grad()\n",
    "        \n",
    "        # Forward propagation\n",
    "        outputs = model(train)\n",
    "        \n",
    "        # Calculate softmax and ross entropy loss\n",
    "        loss = error(outputs, labels)\n",
    "        \n",
    "        # Calculating gradients\n",
    "        loss.backward()\n",
    "        \n",
    "        # Update parameters\n",
    "        optimizer.step()\n",
    "        \n",
    "        count += 1\n",
    "        \n",
    "        if count % 50 == 0:\n",
    "            # Calculate Accuracy  \n",
    "            model.eval()\n",
    "            correct = 0\n",
    "            total = 0\n",
    "            # Iterate through test dataset\n",
    "            for images, labels in test_loader:\n",
    "                \n",
    "                test = Variable(images.view(100,1,28,28))\n",
    "                \n",
    "                # Forward propagation\n",
    "                outputs = model(test)\n",
    "                \n",
    "                # Get predictions from the maximum value\n",
    "                predicted = torch.max(outputs.data, 1)[1]\n",
    "                \n",
    "                # Total number of labels\n",
    "                total += len(labels)\n",
    "                \n",
    "                correct += (predicted == labels).sum()\n",
    "            \n",
    "            accuracy = 100 * correct / float(total)\n",
    "            \n",
    "            # store loss and iteration\n",
    "            loss_list.append(loss.data)\n",
    "            iteration_list.append(count)\n",
    "            accuracy_list.append(accuracy)\n",
    "        if count % 500 == 0:\n",
    "            # Print Loss\n",
    "            print('Iteration: {}  Loss: {}  Accuracy: {} %'.format(count, loss.data, accuracy))\n",
    "            \n",
    "    scheduler.step()"
   ]
  },
  {
   "cell_type": "code",
   "execution_count": 280,
   "id": "alleged-robinson",
   "metadata": {},
   "outputs": [
    {
     "data": {
      "image/png": "[encoded data removed]",
      "text/plain": [
       "<Figure size 432x288 with 1 Axes>"
      ]
     },
     "metadata": {
      "needs_background": "light"
     },
     "output_type": "display_data"
    },
    {
     "data": {
      "image/png": "[encoded data removed]",
      "text/plain": [
       "<Figure size 432x288 with 1 Axes>"
      ]
     },
     "metadata": {
      "needs_background": "light"
     },
     "output_type": "display_data"
    }
   ],
   "source": [
    "# visualization loss \n",
    "plt.plot(iteration_list,loss_list)\n",
    "plt.xlabel(\"Number of iteration\")\n",
    "plt.ylabel(\"Loss\")\n",
    "plt.title(\"CNN: Loss vs Number of iteration\")\n",
    "plt.show()\n",
    "\n",
    "# visualization accuracy \n",
    "plt.plot(iteration_list,accuracy_list,color = \"red\")\n",
    "plt.xlabel(\"Number of iteration\")\n",
    "plt.ylabel(\"Accuracy\")\n",
    "plt.title(\"CNN: Accuracy vs Number of iteration\")\n",
    "plt.show()"
   ]
  },
  {
   "cell_type": "code",
   "execution_count": 278,
   "id": "tight-immune",
   "metadata": {},
   "outputs": [],
   "source": [
    "# make predictions\n",
    "test = pd.read_csv(\"test.csv\", dtype = np.float32)\n",
    "test = test.values/255 # normalization\n",
    "    \n",
    "# to pytorch.tensor from numpy.ndarray\n",
    "test = torch.from_numpy(test)\n",
    "test = Variable(test.view(28000,1,28,28)) #  НЕ ПОВТОРЯТЬ ТАКОЕ ДОМА, МИНУС ОПЕРАТИВА\n",
    "    \n",
    "# Forward propagation\n",
    "outputs = model(test)\n",
    "                \n",
    "# Get predictions from the maximum value\n",
    "predicted = torch.max(outputs.data, 1)[1]\n",
    "    \n",
    "submission = pd.DataFrame(data={\n",
    "    \"ImageId\": list(range(1, test.shape[0]+1)),\n",
    "    \"Label\": predicted\n",
    "})\n",
    "    \n",
    "submission.to_csv(\"Submission.csv\", index=False)"
   ]
  },
  {
   "cell_type": "code",
   "execution_count": null,
   "id": "casual-reward",
   "metadata": {},
   "outputs": [],
   "source": []
  }
 ],
 "metadata": {
  "kernelspec": {
   "display_name": "Python 3",
   "language": "python",
   "name": "python3"
  },
  "language_info": {
   "codemirror_mode": {
    "name": "ipython",
    "version": 3
   },
   "file_extension": ".py",
   "mimetype": "text/x-python",
   "name": "python",
   "nbconvert_exporter": "python",
   "pygments_lexer": "ipython3",
   "version": "3.9.1"
  }
 },
 "nbformat": 4,
 "nbformat_minor": 5
}
